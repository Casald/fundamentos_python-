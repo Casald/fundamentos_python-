{
 "cells": [
  {
   "cell_type": "markdown",
   "metadata": {},
   "source": [
    "### Fundamentos de Python"
   ]
  },
  {
   "cell_type": "code",
   "execution_count": 2,
   "metadata": {},
   "outputs": [
    {
     "name": "stdout",
     "output_type": "stream",
     "text": [
      "Hello World\n"
     ]
    }
   ],
   "source": [
    "print(\"Hello World\")"
   ]
  },
  {
   "cell_type": "code",
   "execution_count": 9,
   "metadata": {},
   "outputs": [],
   "source": [
    "# variables\n",
    "name = \"josefino\"\n",
    "Name = \"josefino\"\n",
    "\n",
    "first_name = \"josefino\"\n",
    "fn = \"josefino\"\n",
    "# first-name = \"josefino\"\n",
    "\n",
    "# anomalias malas practicas\n",
    "FirstName = \"josefino\"\n",
    "First_Name = \"josefino\"\n",
    "First_name = \"josefino\"\n",
    "# first.name = \"josefino\"\n",
    "\n",
    "# revisar el pep 8: guia de estilo\n"
   ]
  },
  {
   "cell_type": "code",
   "execution_count": 12,
   "metadata": {},
   "outputs": [
    {
     "name": "stdout",
     "output_type": "stream",
     "text": [
      "<class 'float'>\n",
      "<class 'int'>\n",
      "<class 'str'>\n"
     ]
    }
   ],
   "source": [
    "# python como calculadora\n",
    "# int: entero\n",
    "# float: decimales\n",
    "# str: cadena de caracteres\n",
    "\n",
    "age = 12\n",
    "peso = 21\n",
    "altura = 1.78\n",
    "\n",
    "print( type( altura ))\n",
    "print( type( peso ))\n",
    "print( type( first_name ))\n"
   ]
  },
  {
   "cell_type": "code",
   "execution_count": 17,
   "metadata": {},
   "outputs": [
    {
     "name": "stdout",
     "output_type": "stream",
     "text": [
      "El tipo de dato de altura es <class 'float'>\n",
      "El tipo de dato de peso es <class 'float'>\n",
      "El tipo de dato de first_name es <class 'str'>\n"
     ]
    }
   ],
   "source": [
    "# formatos en print\n",
    "\n",
    "edad = 12\n",
    "peso = 21.56\n",
    "altura = 1.78\n",
    "\n",
    "print( \"El tipo de dato de altura es\", type( altura ))\n",
    "print( \"El tipo de dato de peso es\", type( peso ))\n",
    "print( \"El tipo de dato de first_name es\",type( first_name ))"
   ]
  },
  {
   "cell_type": "code",
   "execution_count": 19,
   "metadata": {},
   "outputs": [
    {
     "name": "stdout",
     "output_type": "stream",
     "text": [
      "edad <class 'float'>\n",
      "altura <class 'float'>\n"
     ]
    }
   ],
   "source": [
    "edad = float(edad)\n",
    "type(edad)\n",
    "print(\"edad\", type(edad))\n",
    "\n",
    "altura = float(altura)\n",
    "print( \"altura\", type(altura) )"
   ]
  },
  {
   "cell_type": "markdown",
   "metadata": {},
   "source": [
    "## Ciclos finitos\n"
   ]
  }
 ],
 "metadata": {
  "kernelspec": {
   "display_name": "Python 3",
   "language": "python",
   "name": "python3"
  },
  "language_info": {
   "codemirror_mode": {
    "name": "ipython",
    "version": 3
   },
   "file_extension": ".py",
   "mimetype": "text/x-python",
   "name": "python",
   "nbconvert_exporter": "python",
   "pygments_lexer": "ipython3",
   "version": "3.11.4"
  }
 },
 "nbformat": 4,
 "nbformat_minor": 2
}
