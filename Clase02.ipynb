{
 "cells": [
  {
   "cell_type": "markdown",
   "metadata": {},
   "source": [
    "### Fundamentos de Python"
   ]
  },
  {
   "cell_type": "code",
   "execution_count": 2,
   "metadata": {},
   "outputs": [
    {
     "name": "stdout",
     "output_type": "stream",
     "text": [
      "Hello World\n"
     ]
    }
   ],
   "source": [
    "print(\"Hello World\")"
   ]
  },
  {
   "cell_type": "code",
   "execution_count": 9,
   "metadata": {},
   "outputs": [],
   "source": [
    "# variables\n",
    "name = \"josefino\"\n",
    "Name = \"josefino\"\n",
    "\n",
    "first_name = \"josefino\"\n",
    "fn = \"josefino\"\n",
    "# first-name = \"josefino\"\n",
    "\n",
    "# anomalias malas practicas\n",
    "FirstName = \"josefino\"\n",
    "First_Name = \"josefino\"\n",
    "First_name = \"josefino\"\n",
    "# first.name = \"josefino\"\n",
    "\n",
    "# revisar el pep 8: guia de estilo\n"
   ]
  },
  {
   "cell_type": "code",
   "execution_count": 12,
   "metadata": {},
   "outputs": [
    {
     "name": "stdout",
     "output_type": "stream",
     "text": [
      "<class 'float'>\n",
      "<class 'int'>\n",
      "<class 'str'>\n"
     ]
    }
   ],
   "source": [
    "# python como calculadora\n",
    "# int: entero\n",
    "# float: decimales\n",
    "# str: cadena de caracteres\n",
    "\n",
    "age = 12\n",
    "peso = 21\n",
    "altura = 1.78\n",
    "\n",
    "print( type( altura ))\n",
    "print( type( peso ))\n",
    "print( type( first_name ))\n"
   ]
  },
  {
   "cell_type": "code",
   "execution_count": 17,
   "metadata": {},
   "outputs": [
    {
     "name": "stdout",
     "output_type": "stream",
     "text": [
      "El tipo de dato de altura es <class 'float'>\n",
      "El tipo de dato de peso es <class 'float'>\n",
      "El tipo de dato de first_name es <class 'str'>\n"
     ]
    }
   ],
   "source": [
    "# formatos en print\n",
    "\n",
    "edad = 12\n",
    "peso = 21.56\n",
    "altura = 1.78\n",
    "\n",
    "print( \"El tipo de dato de altura es\", type( altura ))\n",
    "print( \"El tipo de dato de peso es\", type( peso ))\n",
    "print( \"El tipo de dato de first_name es\",type( first_name ))"
   ]
  },
  {
   "cell_type": "code",
   "execution_count": 19,
   "metadata": {},
   "outputs": [
    {
     "name": "stdout",
     "output_type": "stream",
     "text": [
      "edad <class 'float'>\n",
      "altura <class 'float'>\n"
     ]
    }
   ],
   "source": [
    "edad = float(edad)\n",
    "type(edad)\n",
    "print(\"edad\", type(edad))\n",
    "\n",
    "altura = float(altura)\n",
    "print( \"altura\", type(altura) )"
   ]
  },
  {
   "cell_type": "markdown",
   "metadata": {},
   "source": [
    "## Ciclos finitos\n"
   ]
  },
  {
   "cell_type": "code",
   "execution_count": null,
   "metadata": {},
   "outputs": [],
   "source": [
    "# ciclo for en python"
   ]
  },
  {
   "cell_type": "code",
   "execution_count": 1,
   "metadata": {},
   "outputs": [
    {
     "name": "stdout",
     "output_type": "stream",
     "text": [
      "Hola\n",
      "Hola\n",
      "Hola\n",
      "Hola\n",
      "Hola\n"
     ]
    }
   ],
   "source": [
    "for desiree in range(5):\n",
    "    print(\"Hola\")\n",
    "\n"
   ]
  },
  {
   "cell_type": "code",
   "execution_count": 2,
   "metadata": {},
   "outputs": [
    {
     "name": "stdout",
     "output_type": "stream",
     "text": [
      "0\n",
      "1\n",
      "2\n",
      "3\n",
      "4\n"
     ]
    }
   ],
   "source": [
    "for value in range(5):\n",
    "    print(value)"
   ]
  },
  {
   "cell_type": "code",
   "execution_count": 3,
   "metadata": {},
   "outputs": [
    {
     "name": "stdout",
     "output_type": "stream",
     "text": [
      "2\n",
      "3\n",
      "4\n"
     ]
    }
   ],
   "source": [
    "for value in range(2,5):\n",
    "    print(value)"
   ]
  },
  {
   "cell_type": "code",
   "execution_count": 6,
   "metadata": {},
   "outputs": [
    {
     "name": "stdout",
     "output_type": "stream",
     "text": [
      "Cuadrado de 1 es 1\n",
      "Cuadrado de 2 es 4\n",
      "Cuadrado de 3 es 9\n",
      "Cuadrado de 4 es 16\n",
      "Cuadrado de 5 es 25\n",
      "Cuadrado de 6 es 36\n",
      "Cuadrado de 7 es 49\n",
      "Cuadrado de 8 es 64\n",
      "Cuadrado de 9 es 81\n",
      "Cuadrado de 10 es 100\n"
     ]
    }
   ],
   "source": [
    "for value in range(1,11):\n",
    "    print(f\"Cuadrado de {value} es {value**2}\")"
   ]
  },
  {
   "cell_type": "code",
   "execution_count": 7,
   "metadata": {},
   "outputs": [
    {
     "name": "stdout",
     "output_type": "stream",
     "text": [
      "10\n",
      "9\n",
      "8\n",
      "7\n",
      "6\n",
      "5\n",
      "4\n",
      "3\n",
      "2\n",
      "1\n"
     ]
    }
   ],
   "source": [
    "for value in range(10, 0, -1):\n",
    "    print(value)"
   ]
  },
  {
   "cell_type": "code",
   "execution_count": 8,
   "metadata": {},
   "outputs": [
    {
     "name": "stdout",
     "output_type": "stream",
     "text": [
      "voy a clases\n"
     ]
    }
   ],
   "source": [
    "# Condicionales\n",
    "# Operadores de comparacion\n",
    "# > mayor que\n",
    "#  < menor que\n",
    "#  >= mayor igual\n",
    "#  <= menor igual\n",
    "#  == igual\n",
    "#  != diferente\n",
    "\n",
    "day= \"domingo\"\n",
    "if (day == \"domingo\"):\n",
    "    print(\"voy a clases\")"
   ]
  },
  {
   "cell_type": "code",
   "execution_count": 13,
   "metadata": {},
   "outputs": [
    {
     "name": "stdout",
     "output_type": "stream",
     "text": [
      "domingo\n",
      "voy a clases\n"
     ]
    }
   ],
   "source": [
    "# ingreso por teclado\n",
    "day= input(\"Dia de la semana: \")\n",
    "# convertir a minuscula\n",
    "day = day.lower()\n",
    "\n",
    "print(day)\n",
    "\n",
    "if (day == \"domingo\"):\n",
    "    print(\"voy a clases\")\n",
    "else: \n",
    "    print(\"no es domingo\")"
   ]
  },
  {
   "cell_type": "code",
   "execution_count": 17,
   "metadata": {},
   "outputs": [
    {
     "name": "stdout",
     "output_type": "stream",
     "text": [
      "2 es par\n",
      "4 es par\n",
      "6 es par\n",
      "8 es par\n",
      "10 es par\n"
     ]
    }
   ],
   "source": [
    "# Buscar los numeros pares del 1 al 10\n",
    "# buscar los num del 1 al 10\n",
    "# \n",
    "for number in range(1, 11):\n",
    "    if (number % 2) == 0:\n",
    "        print(f\"{number} es par\")\n"
   ]
  },
  {
   "cell_type": "code",
   "execution_count": null,
   "metadata": {},
   "outputs": [],
   "source": [
    "# ingreso por teclado\n",
    "day= input(\"Dia de la semana: \")\n",
    "# convertir a minuscula\n",
    "day = day.lower()\n",
    "\n",
    "print(day)\n",
    "\n",
    "if (day == \"domingo\"):\n",
    "    print(\"voy a clases\")\n",
    "\n",
    "elif day == \"sabado\":\n",
    "    print(\"es sabado\")\n",
    "\n",
    "  elif day == \"lunes\":\n",
    "    print(\"es lunes\")  \n",
    "\n",
    "else: \n",
    "    print(\"no es domingo\")"
   ]
  },
  {
   "cell_type": "markdown",
   "metadata": {},
   "source": [
    "### Listas"
   ]
  },
  {
   "cell_type": "code",
   "execution_count": 19,
   "metadata": {},
   "outputs": [],
   "source": [
    "list_1 = [\"monday\", \"tuesday\", 1, 2, 0.8]"
   ]
  },
  {
   "cell_type": "code",
   "execution_count": 20,
   "metadata": {},
   "outputs": [
    {
     "data": {
      "text/plain": [
       "0.8"
      ]
     },
     "execution_count": 20,
     "metadata": {},
     "output_type": "execute_result"
    }
   ],
   "source": [
    "list_1[-1]"
   ]
  },
  {
   "cell_type": "code",
   "execution_count": 23,
   "metadata": {},
   "outputs": [],
   "source": [
    "names = ['josefino', 'maria', 'ruperto']"
   ]
  },
  {
   "cell_type": "code",
   "execution_count": 25,
   "metadata": {},
   "outputs": [],
   "source": [
    "# append, agrega un valor a la lista\n",
    "names.append('guillermo')"
   ]
  },
  {
   "cell_type": "code",
   "execution_count": 26,
   "metadata": {},
   "outputs": [
    {
     "data": {
      "text/plain": [
       "['josefino', 'maria', 'ruperto', 'guillermo']"
      ]
     },
     "execution_count": 26,
     "metadata": {},
     "output_type": "execute_result"
    }
   ],
   "source": [
    "names"
   ]
  },
  {
   "cell_type": "code",
   "execution_count": 27,
   "metadata": {},
   "outputs": [],
   "source": [
    "names_2 = names.copy()"
   ]
  },
  {
   "cell_type": "code",
   "execution_count": 28,
   "metadata": {},
   "outputs": [
    {
     "data": {
      "text/plain": [
       "1"
      ]
     },
     "execution_count": 28,
     "metadata": {},
     "output_type": "execute_result"
    }
   ],
   "source": [
    "# count, indica el numero de veces que Maria esta en la lista\n",
    "names_2.count('maria')"
   ]
  },
  {
   "cell_type": "code",
   "execution_count": 29,
   "metadata": {},
   "outputs": [
    {
     "data": {
      "text/plain": [
       "1"
      ]
     },
     "execution_count": 29,
     "metadata": {},
     "output_type": "execute_result"
    }
   ],
   "source": [
    "# posicion donde esta maria en la lista\n",
    "names.index(\"maria\")"
   ]
  },
  {
   "cell_type": "code",
   "execution_count": 30,
   "metadata": {},
   "outputs": [
    {
     "data": {
      "text/plain": [
       "'guillermo'"
      ]
     },
     "execution_count": 30,
     "metadata": {},
     "output_type": "execute_result"
    }
   ],
   "source": [
    "# si no coloco nada entre el parentesis, saca de la lista el ultimo, si coloco la posicion elimina el que este en esa posicion.\n",
    "names_2.pop()"
   ]
  },
  {
   "cell_type": "code",
   "execution_count": 31,
   "metadata": {},
   "outputs": [
    {
     "data": {
      "text/plain": [
       "['josefino', 'maria', 'ruperto']"
      ]
     },
     "execution_count": 31,
     "metadata": {},
     "output_type": "execute_result"
    }
   ],
   "source": [
    "names_2"
   ]
  },
  {
   "cell_type": "code",
   "execution_count": 32,
   "metadata": {},
   "outputs": [
    {
     "data": {
      "text/plain": [
       "['maria', 'ruperto']"
      ]
     },
     "execution_count": 32,
     "metadata": {},
     "output_type": "execute_result"
    }
   ],
   "source": [
    "# slices\n",
    "names[1:3]"
   ]
  },
  {
   "cell_type": "code",
   "execution_count": 38,
   "metadata": {},
   "outputs": [
    {
     "data": {
      "text/plain": [
       "[2, 4, 6, 8, 10]"
      ]
     },
     "execution_count": 38,
     "metadata": {},
     "output_type": "execute_result"
    }
   ],
   "source": [
    "# guardar numeros pares en una lista del 1 al 10\n",
    "pares_list = []\n",
    "for number in range(1, 11):\n",
    "    if (number % 2) == 0:\n",
    "        pares_list.append(number)\n",
    "\n",
    "pares_list "
   ]
  },
  {
   "cell_type": "code",
   "execution_count": 43,
   "metadata": {},
   "outputs": [
    {
     "data": {
      "text/plain": [
       "[1, 9, 25, 49, 81]"
      ]
     },
     "execution_count": 43,
     "metadata": {},
     "output_type": "execute_result"
    }
   ],
   "source": [
    "# guardar en una lista el cuadrado de los numeros impares\n",
    "pares_list = []\n",
    "for number in range(1, 11):\n",
    "    if (number % 2) != 0:\n",
    "        pares_list.append(number**2)\n",
    "\n",
    "pares_list\n"
   ]
  },
  {
   "cell_type": "code",
   "execution_count": 45,
   "metadata": {},
   "outputs": [
    {
     "data": {
      "text/plain": [
       "4"
      ]
     },
     "execution_count": 45,
     "metadata": {},
     "output_type": "execute_result"
    }
   ],
   "source": [
    "# me indica el numero de valores que tiene la lista\n",
    "len(names)"
   ]
  },
  {
   "cell_type": "code",
   "execution_count": 46,
   "metadata": {},
   "outputs": [
    {
     "name": "stdout",
     "output_type": "stream",
     "text": [
      "josefino\n",
      "maria\n",
      "ruperto\n",
      "guillermo\n"
     ]
    }
   ],
   "source": [
    "for value in range(len(names)):\n",
    "    print(names[value])"
   ]
  }
 ],
 "metadata": {
  "kernelspec": {
   "display_name": "Python 3",
   "language": "python",
   "name": "python3"
  },
  "language_info": {
   "codemirror_mode": {
    "name": "ipython",
    "version": 3
   },
   "file_extension": ".py",
   "mimetype": "text/x-python",
   "name": "python",
   "nbconvert_exporter": "python",
   "pygments_lexer": "ipython3",
   "version": "3.11.4"
  }
 },
 "nbformat": 4,
 "nbformat_minor": 2
}
