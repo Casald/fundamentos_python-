{
 "cells": [
  {
   "cell_type": "markdown",
   "metadata": {},
   "source": [
    "Ejercicio 2.5"
   ]
  },
  {
   "cell_type": "markdown",
   "metadata": {},
   "source": [
    "1. Escribe un programa que imprima tu nombre 100 veces."
   ]
  },
  {
   "cell_type": "code",
   "execution_count": 62,
   "metadata": {},
   "outputs": [
    {
     "name": "stdout",
     "output_type": "stream",
     "text": [
      "Desiree\n",
      "Desiree\n",
      "Desiree\n",
      "Desiree\n",
      "Desiree\n",
      "Desiree\n",
      "Desiree\n",
      "Desiree\n",
      "Desiree\n",
      "Desiree\n",
      "Desiree\n",
      "Desiree\n",
      "Desiree\n",
      "Desiree\n",
      "Desiree\n",
      "Desiree\n",
      "Desiree\n",
      "Desiree\n",
      "Desiree\n",
      "Desiree\n",
      "Desiree\n",
      "Desiree\n",
      "Desiree\n",
      "Desiree\n",
      "Desiree\n",
      "Desiree\n",
      "Desiree\n",
      "Desiree\n",
      "Desiree\n",
      "Desiree\n",
      "Desiree\n",
      "Desiree\n",
      "Desiree\n",
      "Desiree\n",
      "Desiree\n",
      "Desiree\n",
      "Desiree\n",
      "Desiree\n",
      "Desiree\n",
      "Desiree\n",
      "Desiree\n",
      "Desiree\n",
      "Desiree\n",
      "Desiree\n",
      "Desiree\n",
      "Desiree\n",
      "Desiree\n",
      "Desiree\n",
      "Desiree\n",
      "Desiree\n",
      "Desiree\n",
      "Desiree\n",
      "Desiree\n",
      "Desiree\n",
      "Desiree\n",
      "Desiree\n",
      "Desiree\n",
      "Desiree\n",
      "Desiree\n",
      "Desiree\n",
      "Desiree\n",
      "Desiree\n",
      "Desiree\n",
      "Desiree\n",
      "Desiree\n",
      "Desiree\n",
      "Desiree\n",
      "Desiree\n",
      "Desiree\n",
      "Desiree\n",
      "Desiree\n",
      "Desiree\n",
      "Desiree\n",
      "Desiree\n",
      "Desiree\n",
      "Desiree\n",
      "Desiree\n",
      "Desiree\n",
      "Desiree\n",
      "Desiree\n",
      "Desiree\n",
      "Desiree\n",
      "Desiree\n",
      "Desiree\n",
      "Desiree\n",
      "Desiree\n",
      "Desiree\n",
      "Desiree\n",
      "Desiree\n",
      "Desiree\n",
      "Desiree\n",
      "Desiree\n",
      "Desiree\n",
      "Desiree\n",
      "Desiree\n",
      "Desiree\n",
      "Desiree\n",
      "Desiree\n",
      "Desiree\n",
      "Desiree\n"
     ]
    }
   ],
   "source": [
    "for i in range(100):\n",
    "    print(\"Desiree\")"
   ]
  },
  {
   "cell_type": "markdown",
   "metadata": {},
   "source": [
    "2. Escribe un programa para llenar la pantalla horizontal y verticalmente con tu nombre. (Sugerencia: agregue la opción end=\" en la función de print para llenar la pantalla horizontalmente). "
   ]
  },
  {
   "cell_type": "code",
   "execution_count": 63,
   "metadata": {},
   "outputs": [
    {
     "name": "stdout",
     "output_type": "stream",
     "text": [
      "Desiree Desiree Desiree Desiree Desiree Desiree Desiree Desiree Desiree Desiree Desiree Desiree Desiree Desiree Desiree \n",
      "Desiree Desiree Desiree Desiree Desiree Desiree Desiree Desiree Desiree Desiree Desiree Desiree Desiree Desiree Desiree \n",
      "Desiree Desiree Desiree Desiree Desiree Desiree Desiree Desiree Desiree Desiree Desiree Desiree Desiree Desiree Desiree \n",
      "Desiree Desiree Desiree Desiree Desiree Desiree Desiree Desiree Desiree Desiree Desiree Desiree Desiree Desiree Desiree \n",
      "Desiree Desiree Desiree Desiree Desiree Desiree Desiree Desiree Desiree Desiree Desiree Desiree Desiree Desiree Desiree \n",
      "Desiree Desiree Desiree Desiree Desiree Desiree Desiree Desiree Desiree Desiree Desiree Desiree Desiree Desiree Desiree \n",
      "Desiree Desiree Desiree Desiree Desiree Desiree Desiree Desiree Desiree Desiree Desiree Desiree Desiree Desiree Desiree \n",
      "Desiree Desiree Desiree Desiree Desiree Desiree Desiree Desiree Desiree Desiree Desiree Desiree Desiree Desiree Desiree \n",
      "Desiree Desiree Desiree Desiree Desiree Desiree Desiree Desiree Desiree Desiree Desiree Desiree Desiree Desiree Desiree \n",
      "Desiree Desiree Desiree Desiree Desiree Desiree Desiree Desiree Desiree Desiree Desiree Desiree Desiree Desiree Desiree \n",
      "Desiree Desiree Desiree Desiree Desiree Desiree Desiree Desiree Desiree Desiree Desiree Desiree Desiree Desiree Desiree \n",
      "Desiree Desiree Desiree Desiree Desiree Desiree Desiree Desiree Desiree Desiree Desiree Desiree Desiree Desiree Desiree \n",
      "Desiree Desiree Desiree Desiree Desiree Desiree Desiree Desiree Desiree Desiree Desiree Desiree Desiree Desiree Desiree \n",
      "Desiree Desiree Desiree Desiree Desiree Desiree Desiree Desiree Desiree Desiree Desiree Desiree Desiree Desiree Desiree \n",
      "Desiree Desiree Desiree Desiree Desiree Desiree Desiree Desiree Desiree Desiree Desiree Desiree Desiree Desiree Desiree \n",
      "Desiree Desiree Desiree Desiree Desiree Desiree Desiree Desiree Desiree Desiree Desiree Desiree Desiree Desiree Desiree \n",
      "Desiree Desiree Desiree Desiree Desiree Desiree Desiree Desiree Desiree Desiree Desiree Desiree Desiree Desiree Desiree \n",
      "Desiree Desiree Desiree Desiree Desiree Desiree Desiree Desiree Desiree Desiree Desiree Desiree Desiree Desiree Desiree \n",
      "Desiree Desiree Desiree Desiree Desiree Desiree Desiree Desiree Desiree Desiree Desiree Desiree Desiree Desiree Desiree \n",
      "Desiree Desiree Desiree Desiree Desiree Desiree Desiree Desiree Desiree Desiree Desiree Desiree Desiree Desiree Desiree \n"
     ]
    }
   ],
   "source": [
    "for i in range(20):\n",
    "    print(\"Desiree \"*15)\n"
   ]
  },
  {
   "cell_type": "markdown",
   "metadata": {},
   "source": [
    "3. Escribe un programa que genere 100 líneas, numeradas del 1 al 100, cada una con su nombre. El resultado debería verse como el siguiente:"
   ]
  },
  {
   "cell_type": "code",
   "execution_count": 64,
   "metadata": {},
   "outputs": [
    {
     "name": "stdout",
     "output_type": "stream",
     "text": [
      "1 Desiree\n",
      "2 Desiree\n",
      "3 Desiree\n",
      "4 Desiree\n",
      "5 Desiree\n",
      "6 Desiree\n",
      "7 Desiree\n",
      "8 Desiree\n",
      "9 Desiree\n",
      "10 Desiree\n",
      "11 Desiree\n",
      "12 Desiree\n",
      "13 Desiree\n",
      "14 Desiree\n",
      "15 Desiree\n",
      "16 Desiree\n",
      "17 Desiree\n",
      "18 Desiree\n",
      "19 Desiree\n",
      "20 Desiree\n",
      "21 Desiree\n",
      "22 Desiree\n",
      "23 Desiree\n",
      "24 Desiree\n",
      "25 Desiree\n",
      "26 Desiree\n",
      "27 Desiree\n",
      "28 Desiree\n",
      "29 Desiree\n",
      "30 Desiree\n",
      "31 Desiree\n",
      "32 Desiree\n",
      "33 Desiree\n",
      "34 Desiree\n",
      "35 Desiree\n",
      "36 Desiree\n",
      "37 Desiree\n",
      "38 Desiree\n",
      "39 Desiree\n",
      "40 Desiree\n",
      "41 Desiree\n",
      "42 Desiree\n",
      "43 Desiree\n",
      "44 Desiree\n",
      "45 Desiree\n",
      "46 Desiree\n",
      "47 Desiree\n",
      "48 Desiree\n",
      "49 Desiree\n",
      "50 Desiree\n",
      "51 Desiree\n",
      "52 Desiree\n",
      "53 Desiree\n",
      "54 Desiree\n",
      "55 Desiree\n",
      "56 Desiree\n",
      "57 Desiree\n",
      "58 Desiree\n",
      "59 Desiree\n",
      "60 Desiree\n",
      "61 Desiree\n",
      "62 Desiree\n",
      "63 Desiree\n",
      "64 Desiree\n",
      "65 Desiree\n",
      "66 Desiree\n",
      "67 Desiree\n",
      "68 Desiree\n",
      "69 Desiree\n",
      "70 Desiree\n",
      "71 Desiree\n",
      "72 Desiree\n",
      "73 Desiree\n",
      "74 Desiree\n",
      "75 Desiree\n",
      "76 Desiree\n",
      "77 Desiree\n",
      "78 Desiree\n",
      "79 Desiree\n",
      "80 Desiree\n",
      "81 Desiree\n",
      "82 Desiree\n",
      "83 Desiree\n",
      "84 Desiree\n",
      "85 Desiree\n",
      "86 Desiree\n",
      "87 Desiree\n",
      "88 Desiree\n",
      "89 Desiree\n",
      "90 Desiree\n",
      "91 Desiree\n",
      "92 Desiree\n",
      "93 Desiree\n",
      "94 Desiree\n",
      "95 Desiree\n",
      "96 Desiree\n",
      "97 Desiree\n",
      "98 Desiree\n",
      "99 Desiree\n",
      "100 Desiree\n"
     ]
    }
   ],
   "source": [
    "for i in range (100):\n",
    "    print(i+1, \"Desiree\")"
   ]
  },
  {
   "cell_type": "markdown",
   "metadata": {},
   "source": [
    "4. Escribe un programa que imprima una lista de los números enteros del 1 al 20 y sus cuadrados. "
   ]
  },
  {
   "cell_type": "code",
   "execution_count": 65,
   "metadata": {},
   "outputs": [
    {
     "name": "stdout",
     "output_type": "stream",
     "text": [
      "1 --- 1\n",
      "2 --- 4\n",
      "3 --- 9\n",
      "4 --- 16\n",
      "5 --- 25\n",
      "6 --- 36\n",
      "7 --- 49\n",
      "8 --- 64\n",
      "9 --- 81\n",
      "10 --- 100\n",
      "11 --- 121\n",
      "12 --- 144\n",
      "13 --- 169\n",
      "14 --- 196\n",
      "15 --- 225\n",
      "16 --- 256\n",
      "17 --- 289\n",
      "18 --- 324\n",
      "19 --- 361\n",
      "20 --- 400\n"
     ]
    }
   ],
   "source": [
    "for i in range(1,21):\n",
    "    print(i,\"---\", i*i)"
   ]
  },
  {
   "cell_type": "markdown",
   "metadata": {},
   "source": [
    "5. Escriba un programa que use un bucle for para imprimir los números 8, 11, 14, 17, 20, ..., 83, 86, 89. "
   ]
  },
  {
   "cell_type": "code",
   "execution_count": 66,
   "metadata": {},
   "outputs": [
    {
     "name": "stdout",
     "output_type": "stream",
     "text": [
      "8 11 14 17 20 23 26 29 32 35 38 41 44 47 50 53 56 59 62 65 68 71 74 77 80 83 86 89 "
     ]
    }
   ],
   "source": [
    "for i in range(8,90,3):\n",
    "    print(i, end=\" \")"
   ]
  },
  {
   "cell_type": "markdown",
   "metadata": {},
   "source": [
    "6. Escriba un programa que utilice un bucle for para imprimir los números 100, 98, 96, ..., 4, 2."
   ]
  },
  {
   "cell_type": "code",
   "execution_count": 67,
   "metadata": {},
   "outputs": [
    {
     "name": "stdout",
     "output_type": "stream",
     "text": [
      "100 98 96 94 92 90 88 86 84 82 80 78 76 74 72 70 68 66 64 62 60 58 56 54 52 50 48 46 44 42 40 38 36 34 32 30 28 26 24 22 20 18 16 14 12 10 8 6 4 2 "
     ]
    }
   ],
   "source": [
    "for i in range(100,1,-2):\n",
    "    print(i, end=' ')"
   ]
  },
  {
   "cell_type": "markdown",
   "metadata": {},
   "source": [
    "7. Escriba un programa que use exactamente cuatro bucles for para imprimir la secuencia de letras."
   ]
  },
  {
   "cell_type": "code",
   "execution_count": 68,
   "metadata": {},
   "outputs": [
    {
     "name": "stdout",
     "output_type": "stream",
     "text": [
      "AAAAAAAAAABBBBBBBCDCDCDCDEFFFFFFG\n"
     ]
    }
   ],
   "source": [
    "for i in range(10):\n",
    "    print(\"A\", end=\"\")\n",
    "for j in range(7):\n",
    "    print(\"B\", end=\"\")\n",
    "for k in range(4):\n",
    "    print(\"C\", end=\"\")\n",
    "    print(\"D\", end=\"\")\n",
    "print(\"E\", end=\"\")\n",
    "for l in range(6):\n",
    "    print(\"F\", end=\"\")\n",
    "print(\"G\")"
   ]
  },
  {
   "cell_type": "markdown",
   "metadata": {},
   "source": [
    "8. Escriba un programa que le pregunte al usuario su nombre y cuántas veces imprimirlo. El programa debe imprimir el nombre del usuario el número especificado de veces."
   ]
  },
  {
   "cell_type": "code",
   "execution_count": 70,
   "metadata": {},
   "outputs": [
    {
     "name": "stdout",
     "output_type": "stream",
     "text": [
      "¿Cuál es tu nombre?\n",
      "Imprimelo 3 veces:\n",
      "Desiree\n",
      "Desiree\n",
      "Desiree\n"
     ]
    }
   ],
   "source": [
    "\n",
    "print(\"¿Cuál es tu nombre?\")\n",
    "print(\"Imprimelo 3 veces:\")\n",
    "nom=input(\"¿Cuál es tu nombre?\")\n",
    "for i in range(3):\n",
    "    print(nom)"
   ]
  },
  {
   "cell_type": "markdown",
   "metadata": {},
   "source": [
    "9. Los números de Fibonacci son la siguiente secuencia, donde los dos primeros números son 1 y cada número posterior es la suma de los dos números anteriores. Escriba un programa que le pregunte al usuario cuántos números de Fibonacci desea imprimir y luego imprima esa cantidad."
   ]
  },
  {
   "cell_type": "code",
   "execution_count": null,
   "metadata": {},
   "outputs": [],
   "source": [
    "num=eval(input(\"Introduce un número: \"))\n",
    "print(\"¿Cuántos números de Fibonacci desea imprimir?\")\n"
   ]
  },
  {
   "cell_type": "markdown",
   "metadata": {},
   "source": [
    "10. Utilice un bucle for para imprimir un cuadro como el siguiente. Permite que el usuario especifique qué ancho y qué alto debe tener la caja. (Sugerencia: print(\"*\"*10) imprime diez asteriscos)."
   ]
  },
  {
   "cell_type": "code",
   "execution_count": 73,
   "metadata": {},
   "outputs": [
    {
     "name": "stdout",
     "output_type": "stream",
     "text": [
      "Introduce el ancho: \n",
      "Introduce el alto: \n",
      "********************\n",
      "********************\n",
      "********************\n",
      "********************\n"
     ]
    }
   ],
   "source": [
    "ancho=eval(input(\"Introduce el ancho: \"))\n",
    "alto=eval(input(\"Introduce el alto: \"))\n",
    "print(\"Introduce el ancho: \")\n",
    "print(\"Introduce el alto: \")\n",
    "for i in range(alto):\n",
    "    print(\"*\"*ancho)\n"
   ]
  },
  {
   "cell_type": "markdown",
   "metadata": {},
   "source": [
    "11. Utilice un bucle for para imprimir un cuadro como el siguiente. Permitir al usuario especificar qué ancho y alto debe ser la caja."
   ]
  },
  {
   "cell_type": "code",
   "execution_count": 90,
   "metadata": {},
   "outputs": [
    {
     "name": "stdout",
     "output_type": "stream",
     "text": [
      "Introduce el ancho: \n",
      "Introduce el alto: \n",
      "********************\n",
      "*                           *\n",
      "*                           *\n",
      "********************\n"
     ]
    }
   ],
   "source": [
    "ancho=eval(input(\"Introduce el ancho: \"))\n",
    "alto=eval(input(\"Introduce el alto: \"))\n",
    "print(\"Introduce el ancho: \")\n",
    "print(\"Introduce el alto: \")\n",
    "for i in range(alto):\n",
    "    print(\"*\"*ancho)\n",
    "    print(\"*\",\" \"*25, \"*\")\n",
    "for i in range(alto):\n",
    "    print(\"*\",\" \"*25, \"*\")\n",
    "    print(\"*\"*ancho)\n",
    "    "
   ]
  },
  {
   "cell_type": "markdown",
   "metadata": {},
   "source": [
    "12. Utilice un bucle for para imprimir un triángulo como el siguiente. Permita que el usuario especifique qué tan alto debe ser el triángulo."
   ]
  },
  {
   "cell_type": "code",
   "execution_count": 92,
   "metadata": {},
   "outputs": [
    {
     "name": "stdout",
     "output_type": "stream",
     "text": [
      "Introduce el alto: \n",
      "*\n",
      "**\n",
      "***\n",
      "****\n",
      "*****\n"
     ]
    }
   ],
   "source": [
    "alto=eval(input(\"Ingrese el alto del triángulo: \"))\n",
    "print(\"Introduce el alto: \")\n",
    "for i in range(alto):\n",
    "    print(\"*\"*(i+1))"
   ]
  },
  {
   "cell_type": "markdown",
   "metadata": {},
   "source": [
    "13. Utilice un bucle for para imprimir un triángulo invertido como el que se muestra a continuación. Permitir al usuario especificar qué altura debe tener el triángulo."
   ]
  },
  {
   "cell_type": "code",
   "execution_count": 93,
   "metadata": {},
   "outputs": [
    {
     "name": "stdout",
     "output_type": "stream",
     "text": [
      "Introduce el alto: \n",
      "*****\n",
      "****\n",
      "***\n",
      "**\n",
      "*\n"
     ]
    }
   ],
   "source": [
    "alto=eval(input(\"Ingrese el alto del triángulo: \"))\n",
    "print(\"Introduce el alto: \")\n",
    "for i in range(alto,0,-1):\n",
    "    print(\"*\"*i)"
   ]
  },
  {
   "cell_type": "markdown",
   "metadata": {},
   "source": [
    "14. Utilice bucles for para imprimir un diamante como el que se muestra a continuación. Permita que el usuario especifique la altura que debe tener el diamante."
   ]
  },
  {
   "cell_type": "code",
   "execution_count": 108,
   "metadata": {},
   "outputs": [
    {
     "name": "stdout",
     "output_type": "stream",
     "text": [
      "Introduce el alto: \n",
      "   *\n",
      "   ***\n",
      "   *****\n",
      "*******\n",
      "*****\n",
      "***\n",
      "*\n"
     ]
    }
   ],
   "source": [
    "alto=eval(input(\"Ingrese el alto del triángulo: \"))\n",
    "print(\"Introduce el alto: \")\n",
    "for i in range(1,alto,+2):\n",
    "    print(\"  \",\"*\"*i)\n",
    "for i in range(alto,0,-2):\n",
    "    print(\"*\"*i)    \n"
   ]
  }
 ],
 "metadata": {
  "kernelspec": {
   "display_name": "Python 3",
   "language": "python",
   "name": "python3"
  },
  "language_info": {
   "codemirror_mode": {
    "name": "ipython",
    "version": 3
   },
   "file_extension": ".py",
   "mimetype": "text/x-python",
   "name": "python",
   "nbconvert_exporter": "python",
   "pygments_lexer": "ipython3",
   "version": "3.11.4"
  }
 },
 "nbformat": 4,
 "nbformat_minor": 2
}
