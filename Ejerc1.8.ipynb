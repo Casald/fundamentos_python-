{
 "cells": [
  {
   "cell_type": "markdown",
   "metadata": {},
   "source": [
    "Ejercicios 1.8"
   ]
  },
  {
   "cell_type": "markdown",
   "metadata": {},
   "source": [
    "1. Imprima un cuadro como en el siguiente:"
   ]
  },
  {
   "cell_type": "code",
   "execution_count": 173,
   "metadata": {},
   "outputs": [
    {
     "name": "stdout",
     "output_type": "stream",
     "text": [
      "*******************\n",
      "*******************\n",
      "*******************\n",
      "*******************\n"
     ]
    }
   ],
   "source": [
    "print(\"*******************\")\n",
    "print(\"*******************\")\n",
    "print(\"*******************\")\n",
    "print(\"*******************\")\n",
    "\n"
   ]
  },
  {
   "cell_type": "markdown",
   "metadata": {},
   "source": [
    "2. Imprima un cuadro como en el siguiente:"
   ]
  },
  {
   "cell_type": "code",
   "execution_count": 174,
   "metadata": {},
   "outputs": [
    {
     "name": "stdout",
     "output_type": "stream",
     "text": [
      "*******************\n",
      "*                         *\n",
      "*                         *\n",
      "*******************\n"
     ]
    }
   ],
   "source": [
    "print(\"*******************\")\n",
    "print(\"*                         *\")\n",
    "print(\"*                         *\")\n",
    "print(\"*******************\")"
   ]
  },
  {
   "cell_type": "markdown",
   "metadata": {},
   "source": [
    "3. Imprime un triangulo como el que se muestra a continuación:"
   ]
  },
  {
   "cell_type": "code",
   "execution_count": 182,
   "metadata": {},
   "outputs": [
    {
     "name": "stdout",
     "output_type": "stream",
     "text": [
      "*\n",
      "**\n",
      "***\n",
      "****\n"
     ]
    }
   ],
   "source": [
    "print(\"*\")\n",
    "print(\"**\")\n",
    "print(\"***\")\n",
    "print(\"****\")"
   ]
  },
  {
   "cell_type": "markdown",
   "metadata": {},
   "source": [
    "4. Escriba un programa que calcule e imprima el resultado:"
   ]
  },
  {
   "cell_type": "code",
   "execution_count": null,
   "metadata": {},
   "outputs": [
    {
     "name": "stdout",
     "output_type": "stream",
     "text": [
      "0.1017249004865104\n"
     ]
    }
   ],
   "source": [
    "print((512-282)/((47*48)+5))\n"
   ]
  },
  {
   "cell_type": "markdown",
   "metadata": {},
   "source": [
    "5. Pida al usuario que ingrese un número. Imprime el cuadrado del número, pero usa el argumento opcional SEP para imprimirlo en una oración completa que termine en un punto. El resultado se muestra a continuación."
   ]
  },
  {
   "cell_type": "code",
   "execution_count": 175,
   "metadata": {},
   "outputs": [
    {
     "name": "stdout",
     "output_type": "stream",
     "text": [
      "Ingresa un número:\n",
      "El cuadrado de tú número es: 25.\n"
     ]
    }
   ],
   "source": [
    "numero=eval(input(\"Ingresa un número:\"))\n",
    "print(\"Ingresa un número:\")\n",
    "print(\"El cuadrado de tú número es: \", numero*numero, \".\", sep=\"\")\n"
   ]
  },
  {
   "cell_type": "markdown",
   "metadata": {},
   "source": [
    "6. Pida al usuario que ingrese un número X. Utilice el argumento opcional SEP para imprimir x, 2x, 3x, 4x y 5x, cada uno separado por tres guiones, como se muestra a continuación. NOTA: En este ejercicio, el programa me pide 2 veces que introduzca el número."
   ]
  },
  {
   "cell_type": "code",
   "execution_count": 176,
   "metadata": {},
   "outputs": [
    {
     "name": "stdout",
     "output_type": "stream",
     "text": [
      "Ingrese un número:\n",
      "7---14---21---28---35\n"
     ]
    }
   ],
   "source": [
    "num=eval(input(\"Ingrese un número:\"))\n",
    "print(\"Ingrese un número:\")\n",
    "print(num, num*2, num*3, num*4, num*5, sep=\"---\")\n"
   ]
  },
  {
   "cell_type": "markdown",
   "metadata": {},
   "source": [
    "7. Escriba un programa que solicite al usuario un peso en kilogramos y lo convierta a libras. Hay 2,2 libras en un kilogramo."
   ]
  },
  {
   "cell_type": "code",
   "execution_count": 177,
   "metadata": {},
   "outputs": [
    {
     "name": "stdout",
     "output_type": "stream",
     "text": [
      "Ingrese peso en Kilogramo: \n",
      "El peso en Libras es:  22.0\n"
     ]
    }
   ],
   "source": [
    "kg=eval(input(\"Ingrese peso en Kilogramo\"))\n",
    "print(\"Ingrese peso en Kilogramo: \")\n",
    "print(\"El peso en Libras es: \", (kg*2.2))"
   ]
  },
  {
   "cell_type": "markdown",
   "metadata": {},
   "source": [
    "NOTA: Si tengo varios ejercicios en la hoja, no debo darle al botón Run All porque corre todos los programas con el mismo valor. Debo correr cada programa por separado."
   ]
  },
  {
   "cell_type": "markdown",
   "metadata": {},
   "source": [
    "8. Escriba un programa que solicite al usuario que ingrese tres números (use tres declaraciones de entrada separadas). Cree variables llamadas total y promedio que contengan la suma y el promedio de los tres números e imprima los valores del total y el promedio."
   ]
  },
  {
   "cell_type": "code",
   "execution_count": 178,
   "metadata": {},
   "outputs": [
    {
     "name": "stdout",
     "output_type": "stream",
     "text": [
      "Ingrese el primer valor: \n",
      "Ingrese el segundo valor: \n",
      "Ingrese el tercer valor: \n",
      "El total es:  30\n",
      "El promedio es:  10.0\n"
     ]
    }
   ],
   "source": [
    "valor1=eval(input(\"Ingrese el primer valor: \"))\n",
    "valor2=eval(input(\"Ingrese el segundo valor: \"))\n",
    "valor3=eval(input(\"Ingrese el tercer valor: \"))\n",
    "total=valor1+valor2+valor3\n",
    "promedio=total/3\n",
    "print(\"Ingrese el primer valor: \")\n",
    "print(\"Ingrese el segundo valor: \")\n",
    "print(\"Ingrese el tercer valor: \")\n",
    "print(\"El total es: \", total)\n",
    "print(\"El promedio es: \", promedio)"
   ]
  },
  {
   "cell_type": "markdown",
   "metadata": {},
   "source": [
    "9. Muchos teléfonos móviles tienen calculadoras de propinas. Escribe uno. Pregunta al usuario el precio de la comida y el porcentaje de propina que quiere dejar. Luego imprima tanto el monto de la propina como la factura total con la propina incluida."
   ]
  },
  {
   "cell_type": "code",
   "execution_count": 181,
   "metadata": {},
   "outputs": [
    {
     "name": "stdout",
     "output_type": "stream",
     "text": [
      "El precio de la comida es:  80\n",
      "¿Cuanto porcentaje de propina quiere dejar?:  10\n",
      "La propina es:  8.0\n",
      "El total es:  88.0\n"
     ]
    }
   ],
   "source": [
    "comida=eval(input(\"¿Cuál es el precio de la comida?: \"))\n",
    "porcpropina=eval(input(\"¿Cuanto porcentaje de propina quiere dejar?: \"))\n",
    "propina=(comida*porcpropina/100)\n",
    "total=comida+propina\n",
    "print(\"El precio de la comida es: \",comida)\n",
    "print(\"¿Cuanto porcentaje de propina quiere dejar?: \", porcpropina )\n",
    "print(\"La propina es: \", propina)\n",
    "print(\"El total es: \", total)"
   ]
  }
 ],
 "metadata": {
  "kernelspec": {
   "display_name": "Python 3",
   "language": "python",
   "name": "python3"
  },
  "language_info": {
   "codemirror_mode": {
    "name": "ipython",
    "version": 3
   },
   "file_extension": ".py",
   "mimetype": "text/x-python",
   "name": "python",
   "nbconvert_exporter": "python",
   "pygments_lexer": "ipython3",
   "version": "3.11.4"
  }
 },
 "nbformat": 4,
 "nbformat_minor": 2
}
