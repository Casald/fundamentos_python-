{
 "cells": [
  {
   "cell_type": "markdown",
   "metadata": {},
   "source": [
    "#### Diccionarios"
   ]
  },
  {
   "cell_type": "code",
   "execution_count": 1,
   "metadata": {},
   "outputs": [
    {
     "data": {
      "text/plain": [
       "['tomate', 'pimenton']"
      ]
     },
     "execution_count": 1,
     "metadata": {},
     "output_type": "execute_result"
    }
   ],
   "source": [
    "list1 = ['cebolla', 'tomate', 'pimenton']\n",
    "len(list1)\n",
    "list1[1:]"
   ]
  },
  {
   "cell_type": "code",
   "execution_count": 7,
   "metadata": {},
   "outputs": [],
   "source": [
    "dicc_1 = {\n",
    "    \"carmen\" : 1234,\n",
    "    \"jose\" : 4321,\n",
    "    \"pedro\" : 5678,\n",
    "    \"josefino\" : [123, 456, 789],\n",
    "\n",
    "    'ruperto' : {\"netflix\":123, \"espn\":456, \"hbo\":789}\n",
    "    }"
   ]
  },
  {
   "cell_type": "code",
   "execution_count": 9,
   "metadata": {},
   "outputs": [
    {
     "data": {
      "text/plain": [
       "456"
      ]
     },
     "execution_count": 9,
     "metadata": {},
     "output_type": "execute_result"
    }
   ],
   "source": [
    "dicc_1[\"ruperto\"][\"espn\"]\n"
   ]
  },
  {
   "cell_type": "code",
   "execution_count": 3,
   "metadata": {},
   "outputs": [
    {
     "data": {
      "text/plain": [
       "4321"
      ]
     },
     "execution_count": 3,
     "metadata": {},
     "output_type": "execute_result"
    }
   ],
   "source": [
    "# ver elementos del diccionario \n",
    "dicc_1[\"jose\"]"
   ]
  },
  {
   "cell_type": "code",
   "execution_count": 4,
   "metadata": {},
   "outputs": [],
   "source": [
    "# borrar un elemento del diccionario\n",
    "del dicc_1[\"pedro\"]\n"
   ]
  },
  {
   "cell_type": "code",
   "execution_count": 5,
   "metadata": {},
   "outputs": [],
   "source": [
    "# agregar elementos al diccionario\n",
    "dicc_1[\"josefino\"] = 7923\n"
   ]
  },
  {
   "cell_type": "code",
   "execution_count": 23,
   "metadata": {},
   "outputs": [],
   "source": [
    "# conjuntos / set\n",
    "conj_1 = {1,2,2,3,3,4,4}"
   ]
  },
  {
   "cell_type": "code",
   "execution_count": 24,
   "metadata": {},
   "outputs": [
    {
     "data": {
      "text/plain": [
       "{1, 2, 3, 4}"
      ]
     },
     "execution_count": 24,
     "metadata": {},
     "output_type": "execute_result"
    }
   ],
   "source": [
    "conj_1"
   ]
  },
  {
   "cell_type": "code",
   "execution_count": 27,
   "metadata": {},
   "outputs": [],
   "source": [
    "list2 = ['cebolla', 'tomate', 'pimenton','cebolla', 'tomate', 'pimenton']"
   ]
  },
  {
   "cell_type": "code",
   "execution_count": 28,
   "metadata": {},
   "outputs": [
    {
     "data": {
      "text/plain": [
       "{'cebolla', 'pimenton', 'tomate'}"
      ]
     },
     "execution_count": 28,
     "metadata": {},
     "output_type": "execute_result"
    }
   ],
   "source": [
    "set(list2)"
   ]
  },
  {
   "cell_type": "code",
   "execution_count": 10,
   "metadata": {},
   "outputs": [],
   "source": [
    "# copia de un diccionario\n",
    "# diccionario base 0\n",
    "dict_0 = dicc_1.copy()"
   ]
  },
  {
   "cell_type": "code",
   "execution_count": 11,
   "metadata": {},
   "outputs": [
    {
     "name": "stdout",
     "output_type": "stream",
     "text": [
      "claves:  dict_keys(['carmen', 'jose', 'pedro', 'josefino', 'ruperto'])\n",
      "valores:  dict_values([1234, 4321, 5678, [123, 456, 789], {'netflix': 123, 'espn': 456, 'hbo': 789}])\n"
     ]
    }
   ],
   "source": [
    "# ver las claves\n",
    "print(\"claves: \", dict_0.keys())\n",
    "print(\"valores: \", dict_0.values())\n"
   ]
  },
  {
   "cell_type": "code",
   "execution_count": 14,
   "metadata": {},
   "outputs": [],
   "source": [
    "# actualizar conjunto clave valor\n",
    "dict_0.update({\n",
    "    \"carmen\":9879,\n",
    "})"
   ]
  },
  {
   "cell_type": "code",
   "execution_count": 15,
   "metadata": {},
   "outputs": [
    {
     "data": {
      "text/plain": [
       "9879"
      ]
     },
     "execution_count": 15,
     "metadata": {},
     "output_type": "execute_result"
    }
   ],
   "source": [
    "dict_0[\"carmen\"]"
   ]
  },
  {
   "cell_type": "code",
   "execution_count": 16,
   "metadata": {},
   "outputs": [],
   "source": [
    "# Funciones\n",
    "def suma_dos(num1, num2):\n",
    "    \"\"\"\n",
    "    Esta funcion suma dos numeros enteros\n",
    "    num1: int\n",
    "    num2: int\n",
    "    return: int    \n",
    "    \"\"\"\n",
    "    resultado = num1 + num2\n",
    "    return resultado"
   ]
  },
  {
   "cell_type": "code",
   "execution_count": 17,
   "metadata": {},
   "outputs": [
    {
     "data": {
      "text/plain": [
       "6"
      ]
     },
     "execution_count": 17,
     "metadata": {},
     "output_type": "execute_result"
    }
   ],
   "source": [
    "# pase de argumentos por posicion\n",
    "suma_dos(2,4)"
   ]
  },
  {
   "cell_type": "code",
   "execution_count": 20,
   "metadata": {},
   "outputs": [],
   "source": [
    "# Funciones\n",
    "def resta_dos(num1, num2):\n",
    "    \"\"\"\n",
    "    Esta funcion resta num1 - num2\n",
    "    num1: int\n",
    "    num2: int\n",
    "    return: int    \n",
    "    \"\"\"\n",
    "    resultado = num1 - num2\n",
    "    return resultado"
   ]
  },
  {
   "cell_type": "code",
   "execution_count": 22,
   "metadata": {},
   "outputs": [
    {
     "data": {
      "text/plain": [
       "-1"
      ]
     },
     "execution_count": 22,
     "metadata": {},
     "output_type": "execute_result"
    }
   ],
   "source": [
    "# pase de argumentos por parametros\n",
    "resta_dos(num2=9,num1=8)"
   ]
  },
  {
   "cell_type": "code",
   "execution_count": null,
   "metadata": {},
   "outputs": [],
   "source": [
    "# Funciones\n",
    "def multi_dos_positivos(num1, num2):\n",
    "    \"\"\"\n",
    "    Esta funcion rmultiplica num1 * num2\n",
    "    num1: int\n",
    "    num2: int\n",
    "    return: int    \n",
    "    \"\"\"\n",
    "    if (num1>0) and (num2>0):\n",
    "        resultado = num1 * num2\n",
    "    else:\n",
    "        print\n",
    "    return resultado"
   ]
  },
  {
   "cell_type": "code",
   "execution_count": null,
   "metadata": {},
   "outputs": [],
   "source": [
    "suma_dos()"
   ]
  }
 ],
 "metadata": {
  "kernelspec": {
   "display_name": "Python 3",
   "language": "python",
   "name": "python3"
  },
  "language_info": {
   "codemirror_mode": {
    "name": "ipython",
    "version": 3
   },
   "file_extension": ".py",
   "mimetype": "text/x-python",
   "name": "python",
   "nbconvert_exporter": "python",
   "pygments_lexer": "ipython3",
   "version": "3.11.4"
  }
 },
 "nbformat": 4,
 "nbformat_minor": 2
}
