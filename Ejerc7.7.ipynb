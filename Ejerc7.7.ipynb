{
 "cells": [
  {
   "cell_type": "markdown",
   "metadata": {},
   "source": [
    "Ejercicio 7.7"
   ]
  },
  {
   "cell_type": "markdown",
   "metadata": {},
   "source": [
    "1. Escriba un programa que solicite al usuario que ingrese una lista de números enteros. Haz lo siguiente:\n",
    "b) Imprima el último elemento de la lista.\n",
    "c) Imprima la lista en orden inverso.\n",
    "d) Imprima Si, si la lista contiene un 5 y No en caso contrario.\n",
    "e) Imprima el número de cinco en la lista.\n",
    "f) Retire el primer y último elemento de la lista, clasifique los elementos restantes e imprima el resultado.\n",
    "g) Imprima cuántos números enteros en la lista son menores que 5."
   ]
  },
  {
   "cell_type": "code",
   "execution_count": 64,
   "metadata": {},
   "outputs": [
    {
     "name": "stdout",
     "output_type": "stream",
     "text": [
      "[123456]\n"
     ]
    }
   ],
   "source": [
    "num1 = eval(input(\"Ingrese una lista numeros enteros: \"))\n",
    "l = [num1]\n",
    "print(l)\n"
   ]
  },
  {
   "cell_type": "markdown",
   "metadata": {},
   "source": [
    "NOTA: Si ingreso valores sin colocar coma los numeros que me arroja en la lista salen pegados. Ejem: [123456]\n",
    "      Si ingreso los valores colocando las comas la lista sale asi, [(1, 2, 3, 4, 5, 6)]"
   ]
  },
  {
   "cell_type": "code",
   "execution_count": 15,
   "metadata": {},
   "outputs": [
    {
     "name": "stdout",
     "output_type": "stream",
     "text": [
      "[1, 2, 3, 4, 5, 6, 7, 8, 9]\n"
     ]
    }
   ],
   "source": [
    "# porque se imprime un numero si yo no lo coloco? REVISAR ESTE EJERCICIO\n",
    "num = eval(input(\"Ingrese una lista numeros enteros: \"))\n",
    "lista_enteros = []\n",
    "for i in range(1,10):\n",
    "    if (i % 1) == 0:\n",
    "        lista_enteros.append(i)\n",
    "                       \n",
    "print(lista_enteros)\n",
    "\n"
   ]
  },
  {
   "cell_type": "code",
   "execution_count": 76,
   "metadata": {},
   "outputs": [],
   "source": [
    "lista = [1, 2, 3, 4, 5]"
   ]
  },
  {
   "cell_type": "code",
   "execution_count": 77,
   "metadata": {},
   "outputs": [
    {
     "data": {
      "text/plain": [
       "[1, 2, 3, 4, 5]"
      ]
     },
     "execution_count": 77,
     "metadata": {},
     "output_type": "execute_result"
    }
   ],
   "source": [
    "lista"
   ]
  },
  {
   "cell_type": "code",
   "execution_count": 78,
   "metadata": {},
   "outputs": [
    {
     "data": {
      "text/plain": [
       "5"
      ]
     },
     "execution_count": 78,
     "metadata": {},
     "output_type": "execute_result"
    }
   ],
   "source": [
    "# a) Imprima el numero total de elementos de la lista.\n",
    "len(lista)"
   ]
  },
  {
   "cell_type": "code",
   "execution_count": 83,
   "metadata": {},
   "outputs": [
    {
     "data": {
      "text/plain": [
       "5"
      ]
     },
     "execution_count": 83,
     "metadata": {},
     "output_type": "execute_result"
    }
   ],
   "source": [
    "# b) Imprima el ultimo elemento de la lista.\n",
    "lista[-1]"
   ]
  },
  {
   "cell_type": "code",
   "execution_count": 103,
   "metadata": {},
   "outputs": [
    {
     "name": "stdout",
     "output_type": "stream",
     "text": [
      "[5, 4, 3, 2, 1]\n"
     ]
    }
   ],
   "source": [
    "# c) Imprima la lista en orden inverso.\n",
    "# NOTA: Tuve que crear la lista para que me arrojara el resultado correcto. \n",
    "lista = [1, 2, 3, 4, 5]\n",
    "lista.reverse()\n",
    "print(lista)"
   ]
  },
  {
   "cell_type": "code",
   "execution_count": 98,
   "metadata": {},
   "outputs": [
    {
     "name": "stdout",
     "output_type": "stream",
     "text": [
      "Si\n"
     ]
    }
   ],
   "source": [
    "\n",
    "# d) Imprima Si, si la lista contiene un 5 y No en caso contrario.\n",
    "lista = [1, 2, 3, 4, 5, 6]\n",
    "if (5) in lista:\n",
    "    print(\"Si\")\n",
    "\n",
    "else:\n",
    "    print(\"No\")"
   ]
  },
  {
   "cell_type": "code",
   "execution_count": 100,
   "metadata": {},
   "outputs": [
    {
     "data": {
      "text/plain": [
       "5"
      ]
     },
     "execution_count": 100,
     "metadata": {},
     "output_type": "execute_result"
    }
   ],
   "source": [
    "# e) Imprima el número de cinco en la lista.\n",
    "lista = [1, 2, 3, 4, 5, 6]\n",
    "lista.index(6)\n"
   ]
  },
  {
   "cell_type": "code",
   "execution_count": 108,
   "metadata": {},
   "outputs": [
    {
     "data": {
      "text/plain": [
       "[2, 3, 4, 5]"
      ]
     },
     "execution_count": 108,
     "metadata": {},
     "output_type": "execute_result"
    }
   ],
   "source": [
    "# f) Retire el primer y último elemento de la lista, clasifique los elementos restantes e imprima el resultado.\n",
    "lista = [1, 2, 3, 4, 5, 6]\n",
    "lista[1:-1]\n"
   ]
  },
  {
   "cell_type": "code",
   "execution_count": 124,
   "metadata": {},
   "outputs": [
    {
     "name": "stdout",
     "output_type": "stream",
     "text": [
      "4\n"
     ]
    }
   ],
   "source": [
    "# g) Imprima cuántos números enteros en la lista son menores que 5.\n",
    "lista = [1, 2, 3, 4, 5, 6]\n",
    "count = 0\n",
    "for i in lista:\n",
    "    if i < 5:\n",
    "        count= count + 1\n",
    "print(count)\n",
    "        \n",
    "    "
   ]
  },
  {
   "cell_type": "markdown",
   "metadata": {},
   "source": [
    "2. Escribe un programa que genere una lista de 20 numeros aleatorios entre 1 y 100."
   ]
  },
  {
   "cell_type": "code",
   "execution_count": 15,
   "metadata": {},
   "outputs": [],
   "source": [
    "from random import randint\n",
    "l = []\n",
    "for i in range(20):\n",
    "    l.append(randint(1, 100))\n",
    "\n",
    "l = l + [randint(1,100)]\n"
   ]
  },
  {
   "cell_type": "code",
   "execution_count": 16,
   "metadata": {},
   "outputs": [
    {
     "name": "stdout",
     "output_type": "stream",
     "text": [
      "[61, 81, 79, 50, 62, 69, 22, 74, 74, 91, 31, 45, 89, 93, 47, 98, 27, 6, 47, 100, 34]\n"
     ]
    }
   ],
   "source": [
    "# a) Imprima la lista\n",
    "print(l)"
   ]
  },
  {
   "cell_type": "code",
   "execution_count": 17,
   "metadata": {},
   "outputs": [
    {
     "name": "stdout",
     "output_type": "stream",
     "text": [
      "El promedio de la lista es: 60.95238095238095\n"
     ]
    }
   ],
   "source": [
    "# b) Imprima el promedio de los elementos de la lista.\n",
    "suma = sum(l)\n",
    "num_elem = len(l)\n",
    "promedio = suma / num_elem\n",
    "print(\"El promedio de la lista es:\", promedio)"
   ]
  },
  {
   "cell_type": "code",
   "execution_count": 18,
   "metadata": {},
   "outputs": [
    {
     "name": "stdout",
     "output_type": "stream",
     "text": [
      "Valores mas pequenos:  6 22\n",
      "Valores mas grandes:  100 98\n"
     ]
    }
   ],
   "source": [
    "# c) Imprima los valores mas grandes y mas pequenos de la lista.\n",
    "l.sort()\n",
    "print(\"Valores mas pequenos: \", l[0], l[1])\n",
    "print(\"Valores mas grandes: \", l[-1], l[-2])"
   ]
  },
  {
   "cell_type": "code",
   "execution_count": 19,
   "metadata": {},
   "outputs": [
    {
     "name": "stdout",
     "output_type": "stream",
     "text": [
      "Segunda entrada mas grande: 98\n",
      "Segunda entrada mas pequena: 22\n"
     ]
    }
   ],
   "source": [
    "# d) Imprima la segunda entrada mas grande y la segunda mas pequena de la lista.\n",
    "l.sort()\n",
    "print(f\"Segunda entrada mas grande: {l[-2]}\")\n",
    "print(f\"Segunda entrada mas pequena: {l[1]}\")"
   ]
  },
  {
   "cell_type": "code",
   "execution_count": 25,
   "metadata": {},
   "outputs": [
    {
     "name": "stdout",
     "output_type": "stream",
     "text": [
      "9\n"
     ]
    }
   ],
   "source": [
    "# e) Imprima cuantos numeros pares hay en la lista.\n",
    "count = 0\n",
    "for i in l:\n",
    "    if i % 2 == 0:\n",
    "        count += 1 \n",
    "print(count)       \n"
   ]
  },
  {
   "cell_type": "markdown",
   "metadata": {},
   "source": [
    "3. Comience con la lista [8,9,10]. Haz lo siguiente:"
   ]
  },
  {
   "cell_type": "code",
   "execution_count": 56,
   "metadata": {},
   "outputs": [
    {
     "name": "stdout",
     "output_type": "stream",
     "text": [
      "[8, 17, 10]\n"
     ]
    }
   ],
   "source": [
    "# a) Establezca la segunda entrada (indice 1) en 17.\n",
    "lista2 = [8, 9, 10]\n",
    "lista2[1] = 17\n",
    "print(lista2)"
   ]
  },
  {
   "cell_type": "code",
   "execution_count": 57,
   "metadata": {},
   "outputs": [
    {
     "name": "stdout",
     "output_type": "stream",
     "text": [
      "[8, 17, 10, 4, 5, 6]\n"
     ]
    }
   ],
   "source": [
    "# b) Agregue 4, 5 y 6 al final de la lista.\n",
    "lista2 = [8, 17, 10] + [4, 5, 6]\n",
    "print(lista2)"
   ]
  },
  {
   "cell_type": "code",
   "execution_count": 58,
   "metadata": {},
   "outputs": [
    {
     "name": "stdout",
     "output_type": "stream",
     "text": [
      "[17, 10, 4, 5, 6]\n"
     ]
    }
   ],
   "source": [
    "# c) Eliminar la primera entrada de la lista.\n",
    "del lista2[0]\n",
    "print(lista2)"
   ]
  },
  {
   "cell_type": "code",
   "execution_count": 59,
   "metadata": {},
   "outputs": [
    {
     "name": "stdout",
     "output_type": "stream",
     "text": [
      "[4, 5, 6, 10, 17]\n"
     ]
    }
   ],
   "source": [
    "# d) Ordenar la lista.\n",
    "lista2.sort()\n",
    "print(lista2)"
   ]
  },
  {
   "cell_type": "code",
   "execution_count": 60,
   "metadata": {},
   "outputs": [
    {
     "name": "stdout",
     "output_type": "stream",
     "text": [
      "[4, 5, 6, 10, 17, 4, 5, 6, 10, 17]\n"
     ]
    }
   ],
   "source": [
    "# e) Duplicar la lista.\n",
    "lista2 = lista2*2\n",
    "print(lista2)"
   ]
  },
  {
   "cell_type": "code",
   "execution_count": 61,
   "metadata": {},
   "outputs": [
    {
     "name": "stdout",
     "output_type": "stream",
     "text": [
      "[4, 5, 6, 25, 10, 17, 4, 5, 6, 10, 17]\n"
     ]
    }
   ],
   "source": [
    "# f) Insertar 25 en el indice 3.\n",
    "lista2.insert(3,25)\n",
    "print(lista2)"
   ]
  },
  {
   "cell_type": "markdown",
   "metadata": {},
   "source": [
    "4. Pidale al usuario que ingrese una lista que contenga numeros entre 1 y 12. Luego reemplace todas las entradas en la lista que son mayores de 10 con 10. "
   ]
  },
  {
   "cell_type": "code",
   "execution_count": 4,
   "metadata": {},
   "outputs": [
    {
     "name": "stdout",
     "output_type": "stream",
     "text": [
      "Ingresa una lista de numeros entre 1 y 12: \n",
      "[1, 2, 3, 4, 5, 6, 7, 8, 9, 10, 11, 12]\n",
      "[1, 2, 3, 4, 5, 6, 7, 8, 9, 10, 10, 12]\n",
      "[1, 2, 3, 4, 5, 6, 7, 8, 9, 10, 10, 10]\n"
     ]
    }
   ],
   "source": [
    "lista_num = []\n",
    "numeros = eval(input(\"Introduce una lista de números: \"))\n",
    "for numeros in range(1,13):\n",
    "    lista_num.append(numeros)\n",
    "print(\"Ingresa una lista de numeros entre 1 y 12: \")\n",
    "print(lista_num)\n",
    "\n",
    "for i in range(len(lista_num)):\n",
    "    if lista_num[i] > 10:\n",
    "        lista_num[i] = 10\n",
    "        print(lista_num)"
   ]
  },
  {
   "cell_type": "code",
   "execution_count": 3,
   "metadata": {},
   "outputs": [
    {
     "data": {
      "text/plain": [
       "[1, 2, 3, 4, 5, 6, 7, 8, 9, 10, 10, 10]"
      ]
     },
     "execution_count": 3,
     "metadata": {},
     "output_type": "execute_result"
    }
   ],
   "source": [
    "# Reemplace todas las entradas en la lista que son mayores de 10 con 10.\n",
    "lista_num"
   ]
  },
  {
   "cell_type": "markdown",
   "metadata": {},
   "source": [
    "5. Pida al usuario que ingrese una lista de cadenas. Cree una nueva lista que consta de esas cadenas con sus primeros caracteres eliminados."
   ]
  },
  {
   "cell_type": "code",
   "execution_count": 9,
   "metadata": {},
   "outputs": [
    {
     "name": "stdout",
     "output_type": "stream",
     "text": [
      "La cadena introducida es:  ['CASA', 'CARRO', 'PERRO', 'FAMILIA', 'OFICINA']\n"
     ]
    }
   ],
   "source": [
    "num_cadenas = int(input(\"Introduce el número de cadenas que deseas procesar: \"))\n",
    "listacadenas = []\n",
    "for i in range(num_cadenas):\n",
    "    cadena = input(f\"Introduce la cadena {i+1}: \")\n",
    "    listacadenas.append(cadena)\n",
    "\n",
    "print(\"La cadena introducida es: \", listacadenas)\n"
   ]
  },
  {
   "cell_type": "code",
   "execution_count": 10,
   "metadata": {},
   "outputs": [
    {
     "data": {
      "text/plain": [
       "['PERRO', 'FAMILIA', 'OFICINA']"
      ]
     },
     "execution_count": 10,
     "metadata": {},
     "output_type": "execute_result"
    }
   ],
   "source": [
    "listacadenas[2:5]\n"
   ]
  },
  {
   "cell_type": "markdown",
   "metadata": {},
   "source": [
    "6. Cree las siguientes listas usando un bucle for."
   ]
  },
  {
   "cell_type": "code",
   "execution_count": 11,
   "metadata": {},
   "outputs": [
    {
     "name": "stdout",
     "output_type": "stream",
     "text": [
      "[0, 1, 2, 3, 4, 5, 6, 7, 8, 9, 10, 11, 12, 13, 14, 15, 16, 17, 18, 19, 20, 21, 22, 23, 24, 25, 26, 27, 28, 29, 30, 31, 32, 33, 34, 35, 36, 37, 38, 39, 40, 41, 42, 43, 44, 45, 46, 47, 48, 49]\n"
     ]
    }
   ],
   "source": [
    "# a) Una lista que consta de los numeros enteros del 0 al 49.\n",
    "list_int = []\n",
    "for number in range(0,50):\n",
    "    if (number % 1) == 0:\n",
    "        list_int.append(number)\n",
    "print(list_int)        "
   ]
  },
  {
   "cell_type": "code",
   "execution_count": 12,
   "metadata": {},
   "outputs": [
    {
     "name": "stdout",
     "output_type": "stream",
     "text": [
      "[1, 4, 9, 16, 25, 36, 49, 64, 81, 100, 121, 144, 169, 196, 225, 256, 289, 324, 361, 400, 441, 484, 529, 576, 625, 676, 729, 784, 841, 900, 961, 1024, 1089, 1156, 1225, 1296, 1369, 1444, 1521, 1600, 1681, 1764, 1849, 1936, 2025, 2116, 2209, 2304, 2401, 2500]\n"
     ]
    }
   ],
   "source": [
    "# b) Una lista que contiene los cuadrados de los números enteros del 1 al 50.list_int = []\n",
    "list_int1 = []\n",
    "for number in range(1,51):\n",
    "    if (number % 1) == 0:\n",
    "        list_int1.append(number**2)\n",
    "print(list_int1) "
   ]
  },
  {
   "cell_type": "code",
   "execution_count": null,
   "metadata": {},
   "outputs": [],
   "source": [
    "# c) La lista ['a', 'bb', 'ccc', 'dddd', ...] que termine con 26 copias de la letra z.\n"
   ]
  }
 ],
 "metadata": {
  "kernelspec": {
   "display_name": "Python 3",
   "language": "python",
   "name": "python3"
  },
  "language_info": {
   "codemirror_mode": {
    "name": "ipython",
    "version": 3
   },
   "file_extension": ".py",
   "mimetype": "text/x-python",
   "name": "python",
   "nbconvert_exporter": "python",
   "pygments_lexer": "ipython3",
   "version": "3.11.4"
  }
 },
 "nbformat": 4,
 "nbformat_minor": 2
}
