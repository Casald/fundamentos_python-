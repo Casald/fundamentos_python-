{
 "cells": [
  {
   "cell_type": "markdown",
   "metadata": {},
   "source": [
    "Ejercicio 7.7"
   ]
  },
  {
   "cell_type": "markdown",
   "metadata": {},
   "source": [
    "1. Escriba un programa que solicite al usuario que ingrese una lista de números enteros. Haz lo siguiente:\n",
    "b) Imprima el último elemento de la lista.\n",
    "c) Imprima la lista en orden inverso.\n",
    "d) Imprima Si, si la lista contiene un 5 y No en caso contrario.\n",
    "e) Imprima el número de cinco en la lista.\n",
    "f) Retire el primer y último elemento de la lista, clasifique los elementos restantes e imprima el resultado.\n",
    "g) Imprima cuántos números enteros en la lista son menores que 5."
   ]
  },
  {
   "cell_type": "code",
   "execution_count": 51,
   "metadata": {},
   "outputs": [
    {
     "name": "stdout",
     "output_type": "stream",
     "text": [
      "[(1, 2, 3, 4, 5, 6)]\n"
     ]
    }
   ],
   "source": [
    "l = eval(input(\"Ingrese una lista numeros enteros: \"))\n",
    "lista_enteros = [l]\n",
    "print(lista_enteros)\n"
   ]
  },
  {
   "cell_type": "markdown",
   "metadata": {},
   "source": [
    "NOTA: Si ingreso valores sin colocar coma los numeros que me arroja en la lista salen pegados. Ejem: [123456]\n",
    "      Si ingreso los valores colocando las comas la lista sale asi, [(1, 2, 3, 4, 5, 6)]"
   ]
  },
  {
   "cell_type": "code",
   "execution_count": 67,
   "metadata": {},
   "outputs": [
    {
     "name": "stdout",
     "output_type": "stream",
     "text": [
      "[1, 2, 3, 4, 5]\n"
     ]
    }
   ],
   "source": [
    "# porque se imprime un numero si yo no lo coloco?\n",
    "num = eval(input(\"Ingrese una lista numeros enteros: \"))\n",
    "lista_enteros = []\n",
    "for num in range(1, 6):\n",
    "    if (num % 1) == 0:\n",
    "        lista_enteros.append(num)\n",
    "print(lista_enteros)\n"
   ]
  },
  {
   "cell_type": "markdown",
   "metadata": {},
   "source": [
    "a) Imprima el número total de elementos de la lista."
   ]
  },
  {
   "cell_type": "code",
   "execution_count": null,
   "metadata": {},
   "outputs": [],
   "source": []
  }
 ],
 "metadata": {
  "kernelspec": {
   "display_name": "Python 3",
   "language": "python",
   "name": "python3"
  },
  "language_info": {
   "codemirror_mode": {
    "name": "ipython",
    "version": 3
   },
   "file_extension": ".py",
   "mimetype": "text/x-python",
   "name": "python",
   "nbconvert_exporter": "python",
   "pygments_lexer": "ipython3",
   "version": "3.11.4"
  }
 },
 "nbformat": 4,
 "nbformat_minor": 2
}
