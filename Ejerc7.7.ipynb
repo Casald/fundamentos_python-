{
 "cells": [
  {
   "cell_type": "markdown",
   "metadata": {},
   "source": [
    "Ejercicio 7.7"
   ]
  },
  {
   "cell_type": "markdown",
   "metadata": {},
   "source": [
    "1. Escriba un programa que solicite al usuario que ingrese una lista de números enteros. Haz lo siguiente:\n",
    "b) Imprima el último elemento de la lista.\n",
    "c) Imprima la lista en orden inverso.\n",
    "d) Imprima Si, si la lista contiene un 5 y No en caso contrario.\n",
    "e) Imprima el número de cinco en la lista.\n",
    "f) Retire el primer y último elemento de la lista, clasifique los elementos restantes e imprima el resultado.\n",
    "g) Imprima cuántos números enteros en la lista son menores que 5."
   ]
  },
  {
   "cell_type": "code",
   "execution_count": 51,
   "metadata": {},
   "outputs": [
    {
     "name": "stdout",
     "output_type": "stream",
     "text": [
      "[(1, 2, 3, 4, 5, 6)]\n"
     ]
    }
   ],
   "source": [
    "l = eval(input(\"Ingrese una lista numeros enteros: \"))\n",
    "lista_enteros = [l]\n",
    "print(lista_enteros)\n"
   ]
  },
  {
   "cell_type": "markdown",
   "metadata": {},
   "source": [
    "NOTA: Si ingreso valores sin colocar coma los numeros que me arroja en la lista salen pegados. Ejem: [123456]\n",
    "      Si ingreso los valores colocando las comas la lista sale asi, [(1, 2, 3, 4, 5, 6)]"
   ]
  },
  {
   "cell_type": "code",
   "execution_count": 67,
   "metadata": {},
   "outputs": [
    {
     "name": "stdout",
     "output_type": "stream",
     "text": [
      "[1, 2, 3, 4, 5]\n"
     ]
    }
   ],
   "source": [
    "# porque se imprime un numero si yo no lo coloco? REVISAR ESTE EJERCICIO\n",
    "num = eval(input(\"Ingrese una lista numeros enteros: \"))\n",
    "lista_enteros = []\n",
    "for num in range(1, 6):\n",
    "    if (num % 1) == 0:\n",
    "        lista_enteros.append(num)\n",
    "print(lista_enteros)\n"
   ]
  },
  {
   "cell_type": "code",
   "execution_count": 76,
   "metadata": {},
   "outputs": [],
   "source": [
    "lista = [1, 2, 3, 4, 5]"
   ]
  },
  {
   "cell_type": "code",
   "execution_count": 77,
   "metadata": {},
   "outputs": [
    {
     "data": {
      "text/plain": [
       "[1, 2, 3, 4, 5]"
      ]
     },
     "execution_count": 77,
     "metadata": {},
     "output_type": "execute_result"
    }
   ],
   "source": [
    "lista"
   ]
  },
  {
   "cell_type": "code",
   "execution_count": 78,
   "metadata": {},
   "outputs": [
    {
     "data": {
      "text/plain": [
       "5"
      ]
     },
     "execution_count": 78,
     "metadata": {},
     "output_type": "execute_result"
    }
   ],
   "source": [
    "# a) Imprima el numero total de elementos de la lista.\n",
    "len(lista)"
   ]
  },
  {
   "cell_type": "code",
   "execution_count": 83,
   "metadata": {},
   "outputs": [
    {
     "data": {
      "text/plain": [
       "5"
      ]
     },
     "execution_count": 83,
     "metadata": {},
     "output_type": "execute_result"
    }
   ],
   "source": [
    "# b) Imprima el ultimo elemento de la lista.\n",
    "lista[-1]"
   ]
  },
  {
   "cell_type": "code",
   "execution_count": 103,
   "metadata": {},
   "outputs": [
    {
     "name": "stdout",
     "output_type": "stream",
     "text": [
      "[5, 4, 3, 2, 1]\n"
     ]
    }
   ],
   "source": [
    "# c) Imprima la lista en orden inverso.\n",
    "# NOTA: Tuve que crear la lista para que me arrojara el resultado correcto. \n",
    "lista = [1, 2, 3, 4, 5]\n",
    "lista.reverse()\n",
    "print(lista)"
   ]
  },
  {
   "cell_type": "code",
   "execution_count": 98,
   "metadata": {},
   "outputs": [
    {
     "name": "stdout",
     "output_type": "stream",
     "text": [
      "Si\n"
     ]
    }
   ],
   "source": [
    "\n",
    "# d) Imprima Si, si la lista contiene un 5 y No en caso contrario.\n",
    "lista = [1, 2, 3, 4, 5, 6]\n",
    "if (5) in lista:\n",
    "    print(\"Si\")\n",
    "\n",
    "else:\n",
    "    print(\"No\")"
   ]
  },
  {
   "cell_type": "code",
   "execution_count": 100,
   "metadata": {},
   "outputs": [
    {
     "data": {
      "text/plain": [
       "5"
      ]
     },
     "execution_count": 100,
     "metadata": {},
     "output_type": "execute_result"
    }
   ],
   "source": [
    "# e) Imprima el número de cinco en la lista.\n",
    "lista = [1, 2, 3, 4, 5, 6]\n",
    "lista.index(6)\n"
   ]
  },
  {
   "cell_type": "code",
   "execution_count": 108,
   "metadata": {},
   "outputs": [
    {
     "data": {
      "text/plain": [
       "[2, 3, 4, 5]"
      ]
     },
     "execution_count": 108,
     "metadata": {},
     "output_type": "execute_result"
    }
   ],
   "source": [
    "# f) Retire el primer y último elemento de la lista, clasifique los elementos restantes e imprima el resultado.\n",
    "lista = [1, 2, 3, 4, 5, 6]\n",
    "lista[1:-1]\n"
   ]
  },
  {
   "cell_type": "code",
   "execution_count": 124,
   "metadata": {},
   "outputs": [
    {
     "name": "stdout",
     "output_type": "stream",
     "text": [
      "4\n"
     ]
    }
   ],
   "source": [
    "# g) Imprima cuántos números enteros en la lista son menores que 5.\n",
    "lista = [1, 2, 3, 4, 5, 6]\n",
    "count = 0\n",
    "for i in lista:\n",
    "    if i < 5:\n",
    "        count= count + 1\n",
    "print(count)\n",
    "        \n",
    "    "
   ]
  }
 ],
 "metadata": {
  "kernelspec": {
   "display_name": "Python 3",
   "language": "python",
   "name": "python3"
  },
  "language_info": {
   "codemirror_mode": {
    "name": "ipython",
    "version": 3
   },
   "file_extension": ".py",
   "mimetype": "text/x-python",
   "name": "python",
   "nbconvert_exporter": "python",
   "pygments_lexer": "ipython3",
   "version": "3.11.4"
  }
 },
 "nbformat": 4,
 "nbformat_minor": 2
}
