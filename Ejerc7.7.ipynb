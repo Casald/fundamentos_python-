{
 "cells": [
  {
   "cell_type": "markdown",
   "metadata": {},
   "source": [
    "Ejercicio 7.7"
   ]
  },
  {
   "cell_type": "markdown",
   "metadata": {},
   "source": [
    "1. Escriba un programa que solicite al usuario que ingrese una lista de números enteros. Haz lo siguiente:\n",
    "a) Imprima el número total de elementos de la lista.\n",
    "b) Imprima el último elemento de la lista.\n",
    "c) Imprima la lista en orden inverso.\n",
    "d) Imprima Si, si la lista contiene un 5 y No en caso contrario.\n",
    "e) Imprima el número de cinco en la lista.\n",
    "f) Retire el primer y último elemento de la lista, clasifique los elementos restantes e imprima el resultado.\n",
    "g) Imprima cuántos números enteros en la lista son menores que 5."
   ]
  },
  {
   "cell_type": "code",
   "execution_count": null,
   "metadata": {},
   "outputs": [],
   "source": []
  }
 ],
 "metadata": {
  "kernelspec": {
   "display_name": "Python 3",
   "language": "python",
   "name": "python3"
  },
  "language_info": {
   "name": "python",
   "version": "3.11.4"
  }
 },
 "nbformat": 4,
 "nbformat_minor": 2
}
